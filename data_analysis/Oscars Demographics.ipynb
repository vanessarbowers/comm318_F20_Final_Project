{
 "cells": [
  {
   "cell_type": "markdown",
   "metadata": {},
   "source": [
    "# Setup"
   ]
  },
  {
   "cell_type": "code",
   "execution_count": 97,
   "metadata": {},
   "outputs": [],
   "source": [
    "import pandas as pd\n",
    "import matplotlib.pyplot as plt\n",
    "import itertools\n",
    "import seaborn as sns\n",
    "import numpy as np\n",
    "import warnings\n",
    "warnings.simplefilter('ignore')\n",
    "\n",
    "pd.set_option('display.max_columns', 100)"
   ]
  },
  {
   "cell_type": "markdown",
   "metadata": {},
   "source": [
    "# Importing the Data File"
   ]
  },
  {
   "cell_type": "code",
   "execution_count": 70,
   "metadata": {},
   "outputs": [
    {
     "name": "stdout",
     "output_type": "stream",
     "text": [
      "There are:  441 rows\n",
      "There are:  28 columns\n"
     ]
    }
   ],
   "source": [
    "oscars_df = pd.read_csv(\"../data/Oscars-demographics-DFE.csv\")\n",
    "\n",
    "#Print number of rows and columns\n",
    "oscars_nrows = oscars_df.shape[0]\n",
    "oscars_ncols = oscars_df.shape[1]\n",
    "\n",
    "print('There are: ', oscars_nrows, 'rows')\n",
    "print('There are: ',oscars_ncols, 'columns')"
   ]
  },
  {
   "cell_type": "code",
   "execution_count": 71,
   "metadata": {},
   "outputs": [
    {
     "data": {
      "text/html": [
       "<div>\n",
       "<style scoped>\n",
       "    .dataframe tbody tr th:only-of-type {\n",
       "        vertical-align: middle;\n",
       "    }\n",
       "\n",
       "    .dataframe tbody tr th {\n",
       "        vertical-align: top;\n",
       "    }\n",
       "\n",
       "    .dataframe thead th {\n",
       "        text-align: right;\n",
       "    }\n",
       "</style>\n",
       "<table border=\"1\" class=\"dataframe\">\n",
       "  <thead>\n",
       "    <tr style=\"text-align: right;\">\n",
       "      <th></th>\n",
       "      <th>Unnamed: 0</th>\n",
       "      <th>_unit_id</th>\n",
       "      <th>_golden</th>\n",
       "      <th>_unit_state</th>\n",
       "      <th>_trusted_judgments</th>\n",
       "      <th>_last_judgment_at</th>\n",
       "      <th>birthplace</th>\n",
       "      <th>birthplace:confidence</th>\n",
       "      <th>date_of_birth</th>\n",
       "      <th>date_of_birth:confidence</th>\n",
       "      <th>race_ethnicity</th>\n",
       "      <th>race_ethnicity:confidence</th>\n",
       "      <th>religion</th>\n",
       "      <th>religion:confidence</th>\n",
       "      <th>sexual_orientation</th>\n",
       "      <th>sexual_orientation:confidence</th>\n",
       "      <th>year_of_award</th>\n",
       "      <th>year_of_award:confidence</th>\n",
       "      <th>award</th>\n",
       "      <th>biourl</th>\n",
       "      <th>birthplace_gold</th>\n",
       "      <th>date_of_birth_gold</th>\n",
       "      <th>movie</th>\n",
       "      <th>person</th>\n",
       "      <th>race_ethnicity_gold</th>\n",
       "      <th>religion_gold</th>\n",
       "      <th>sexual_orientation_gold</th>\n",
       "      <th>year_of_award_gold</th>\n",
       "    </tr>\n",
       "  </thead>\n",
       "  <tbody>\n",
       "    <tr>\n",
       "      <th>0</th>\n",
       "      <td>0</td>\n",
       "      <td>670454353</td>\n",
       "      <td>False</td>\n",
       "      <td>finalized</td>\n",
       "      <td>3</td>\n",
       "      <td>2/10/15 3:45</td>\n",
       "      <td>Chisinau, Moldova</td>\n",
       "      <td>1.0</td>\n",
       "      <td>30-Sep-1895</td>\n",
       "      <td>1.0</td>\n",
       "      <td>White</td>\n",
       "      <td>1.0</td>\n",
       "      <td>Na</td>\n",
       "      <td>1.0</td>\n",
       "      <td>Straight</td>\n",
       "      <td>1.0000</td>\n",
       "      <td>1927</td>\n",
       "      <td>1.0000</td>\n",
       "      <td>Best Director</td>\n",
       "      <td>http://www.nndb.com/people/320/000043191/</td>\n",
       "      <td>NaN</td>\n",
       "      <td>NaN</td>\n",
       "      <td>Two Arabian Knights</td>\n",
       "      <td>Lewis Milestone</td>\n",
       "      <td>NaN</td>\n",
       "      <td>NaN</td>\n",
       "      <td>NaN</td>\n",
       "      <td>NaN</td>\n",
       "    </tr>\n",
       "    <tr>\n",
       "      <th>1</th>\n",
       "      <td>1</td>\n",
       "      <td>670454354</td>\n",
       "      <td>False</td>\n",
       "      <td>finalized</td>\n",
       "      <td>3</td>\n",
       "      <td>2/10/15 2:03</td>\n",
       "      <td>Glasgow, Scotland</td>\n",
       "      <td>1.0</td>\n",
       "      <td>2-Feb-1886</td>\n",
       "      <td>1.0</td>\n",
       "      <td>White</td>\n",
       "      <td>1.0</td>\n",
       "      <td>Na</td>\n",
       "      <td>1.0</td>\n",
       "      <td>Straight</td>\n",
       "      <td>0.6842</td>\n",
       "      <td>1930</td>\n",
       "      <td>1.0000</td>\n",
       "      <td>Best Director</td>\n",
       "      <td>http://www.nndb.com/people/626/000042500/</td>\n",
       "      <td>NaN</td>\n",
       "      <td>NaN</td>\n",
       "      <td>The Divine Lady</td>\n",
       "      <td>Frank Lloyd</td>\n",
       "      <td>NaN</td>\n",
       "      <td>NaN</td>\n",
       "      <td>NaN</td>\n",
       "      <td>NaN</td>\n",
       "    </tr>\n",
       "    <tr>\n",
       "      <th>2</th>\n",
       "      <td>2</td>\n",
       "      <td>670454355</td>\n",
       "      <td>False</td>\n",
       "      <td>finalized</td>\n",
       "      <td>3</td>\n",
       "      <td>2/10/15 2:05</td>\n",
       "      <td>Chisinau, Moldova</td>\n",
       "      <td>1.0</td>\n",
       "      <td>30-Sep-1895</td>\n",
       "      <td>1.0</td>\n",
       "      <td>White</td>\n",
       "      <td>1.0</td>\n",
       "      <td>Na</td>\n",
       "      <td>1.0</td>\n",
       "      <td>Straight</td>\n",
       "      <td>1.0000</td>\n",
       "      <td>1931</td>\n",
       "      <td>0.6667</td>\n",
       "      <td>Best Director</td>\n",
       "      <td>http://www.nndb.com/people/320/000043191/</td>\n",
       "      <td>NaN</td>\n",
       "      <td>NaN</td>\n",
       "      <td>All Quiet on the Western Front</td>\n",
       "      <td>Lewis Milestone</td>\n",
       "      <td>NaN</td>\n",
       "      <td>NaN</td>\n",
       "      <td>NaN</td>\n",
       "      <td>NaN</td>\n",
       "    </tr>\n",
       "    <tr>\n",
       "      <th>3</th>\n",
       "      <td>3</td>\n",
       "      <td>670454356</td>\n",
       "      <td>False</td>\n",
       "      <td>finalized</td>\n",
       "      <td>3</td>\n",
       "      <td>2/10/15 2:04</td>\n",
       "      <td>Chicago, Il</td>\n",
       "      <td>1.0</td>\n",
       "      <td>23-Feb-1899</td>\n",
       "      <td>1.0</td>\n",
       "      <td>White</td>\n",
       "      <td>1.0</td>\n",
       "      <td>Na</td>\n",
       "      <td>1.0</td>\n",
       "      <td>Straight</td>\n",
       "      <td>1.0000</td>\n",
       "      <td>1932</td>\n",
       "      <td>1.0000</td>\n",
       "      <td>Best Director</td>\n",
       "      <td>http://www.nndb.com/people/544/000041421/</td>\n",
       "      <td>NaN</td>\n",
       "      <td>NaN</td>\n",
       "      <td>Skippy</td>\n",
       "      <td>Norman Taurog</td>\n",
       "      <td>NaN</td>\n",
       "      <td>NaN</td>\n",
       "      <td>NaN</td>\n",
       "      <td>NaN</td>\n",
       "    </tr>\n",
       "    <tr>\n",
       "      <th>4</th>\n",
       "      <td>4</td>\n",
       "      <td>670454357</td>\n",
       "      <td>False</td>\n",
       "      <td>finalized</td>\n",
       "      <td>3</td>\n",
       "      <td>2/10/15 1:48</td>\n",
       "      <td>Salt Lake City, Ut</td>\n",
       "      <td>1.0</td>\n",
       "      <td>23-Apr-1894</td>\n",
       "      <td>1.0</td>\n",
       "      <td>White</td>\n",
       "      <td>1.0</td>\n",
       "      <td>Roman Catholic</td>\n",
       "      <td>1.0</td>\n",
       "      <td>Straight</td>\n",
       "      <td>1.0000</td>\n",
       "      <td>1933</td>\n",
       "      <td>1.0000</td>\n",
       "      <td>Best Director</td>\n",
       "      <td>http://www.nndb.com/people/292/000044160/</td>\n",
       "      <td>NaN</td>\n",
       "      <td>NaN</td>\n",
       "      <td>Bad Girl</td>\n",
       "      <td>Frank Borzage</td>\n",
       "      <td>NaN</td>\n",
       "      <td>NaN</td>\n",
       "      <td>NaN</td>\n",
       "      <td>NaN</td>\n",
       "    </tr>\n",
       "  </tbody>\n",
       "</table>\n",
       "</div>"
      ],
      "text/plain": [
       "   Unnamed: 0   _unit_id  _golden _unit_state  _trusted_judgments  \\\n",
       "0           0  670454353    False   finalized                   3   \n",
       "1           1  670454354    False   finalized                   3   \n",
       "2           2  670454355    False   finalized                   3   \n",
       "3           3  670454356    False   finalized                   3   \n",
       "4           4  670454357    False   finalized                   3   \n",
       "\n",
       "  _last_judgment_at          birthplace  birthplace:confidence date_of_birth  \\\n",
       "0      2/10/15 3:45   Chisinau, Moldova                    1.0   30-Sep-1895   \n",
       "1      2/10/15 2:03   Glasgow, Scotland                    1.0    2-Feb-1886   \n",
       "2      2/10/15 2:05   Chisinau, Moldova                    1.0   30-Sep-1895   \n",
       "3      2/10/15 2:04         Chicago, Il                    1.0   23-Feb-1899   \n",
       "4      2/10/15 1:48  Salt Lake City, Ut                    1.0   23-Apr-1894   \n",
       "\n",
       "   date_of_birth:confidence race_ethnicity  race_ethnicity:confidence  \\\n",
       "0                       1.0          White                        1.0   \n",
       "1                       1.0          White                        1.0   \n",
       "2                       1.0          White                        1.0   \n",
       "3                       1.0          White                        1.0   \n",
       "4                       1.0          White                        1.0   \n",
       "\n",
       "         religion  religion:confidence sexual_orientation  \\\n",
       "0              Na                  1.0           Straight   \n",
       "1              Na                  1.0           Straight   \n",
       "2              Na                  1.0           Straight   \n",
       "3              Na                  1.0           Straight   \n",
       "4  Roman Catholic                  1.0           Straight   \n",
       "\n",
       "   sexual_orientation:confidence  year_of_award  year_of_award:confidence  \\\n",
       "0                         1.0000           1927                    1.0000   \n",
       "1                         0.6842           1930                    1.0000   \n",
       "2                         1.0000           1931                    0.6667   \n",
       "3                         1.0000           1932                    1.0000   \n",
       "4                         1.0000           1933                    1.0000   \n",
       "\n",
       "           award                                     biourl birthplace_gold  \\\n",
       "0  Best Director  http://www.nndb.com/people/320/000043191/             NaN   \n",
       "1  Best Director  http://www.nndb.com/people/626/000042500/             NaN   \n",
       "2  Best Director  http://www.nndb.com/people/320/000043191/             NaN   \n",
       "3  Best Director  http://www.nndb.com/people/544/000041421/             NaN   \n",
       "4  Best Director  http://www.nndb.com/people/292/000044160/             NaN   \n",
       "\n",
       "  date_of_birth_gold                           movie           person  \\\n",
       "0                NaN             Two Arabian Knights  Lewis Milestone   \n",
       "1                NaN                 The Divine Lady      Frank Lloyd   \n",
       "2                NaN  All Quiet on the Western Front  Lewis Milestone   \n",
       "3                NaN                          Skippy    Norman Taurog   \n",
       "4                NaN                        Bad Girl    Frank Borzage   \n",
       "\n",
       "  race_ethnicity_gold religion_gold sexual_orientation_gold  \\\n",
       "0                 NaN           NaN                     NaN   \n",
       "1                 NaN           NaN                     NaN   \n",
       "2                 NaN           NaN                     NaN   \n",
       "3                 NaN           NaN                     NaN   \n",
       "4                 NaN           NaN                     NaN   \n",
       "\n",
       "   year_of_award_gold  \n",
       "0                 NaN  \n",
       "1                 NaN  \n",
       "2                 NaN  \n",
       "3                 NaN  \n",
       "4                 NaN  "
      ]
     },
     "execution_count": 71,
     "metadata": {},
     "output_type": "execute_result"
    }
   ],
   "source": [
    "oscars_df.head()"
   ]
  },
  {
   "cell_type": "markdown",
   "metadata": {},
   "source": [
    "## Describing the Data"
   ]
  },
  {
   "cell_type": "code",
   "execution_count": 72,
   "metadata": {},
   "outputs": [
    {
     "name": "stdout",
     "output_type": "stream",
     "text": [
      "       Unnamed: 0      _unit_id  _trusted_judgments  birthplace:confidence  \\\n",
      "count   441.00000  4.410000e+02          441.000000             441.000000   \n",
      "mean    220.00000  6.704825e+08            7.637188               0.995259   \n",
      "std     127.44999  1.139974e+05           19.015541               0.038917   \n",
      "min       0.00000  6.704544e+08            3.000000               0.657100   \n",
      "25%     110.00000  6.704545e+08            3.000000               1.000000   \n",
      "50%     220.00000  6.704546e+08            3.000000               1.000000   \n",
      "75%     330.00000  6.704547e+08            3.000000               1.000000   \n",
      "max     440.00000  6.709729e+08           95.000000               1.000000   \n",
      "\n",
      "       date_of_birth:confidence  race_ethnicity:confidence  \\\n",
      "count                441.000000                 441.000000   \n",
      "mean                   0.996607                   0.999130   \n",
      "std                    0.032060                   0.016438   \n",
      "min                    0.656200                   0.657100   \n",
      "25%                    1.000000                   1.000000   \n",
      "50%                    1.000000                   1.000000   \n",
      "75%                    1.000000                   1.000000   \n",
      "max                    1.000000                   1.000000   \n",
      "\n",
      "       religion:confidence  sexual_orientation:confidence  year_of_award  \\\n",
      "count           441.000000                     441.000000     441.000000   \n",
      "mean              0.989373                       0.992390    1973.165533   \n",
      "std               0.065610                       0.049458      24.030895   \n",
      "min               0.333300                       0.657100    1927.000000   \n",
      "25%               1.000000                       1.000000    1953.000000   \n",
      "50%               1.000000                       1.000000    1973.000000   \n",
      "75%               1.000000                       1.000000    1994.000000   \n",
      "max               1.000000                       1.000000    2014.000000   \n",
      "\n",
      "       year_of_award:confidence  year_of_award_gold  \n",
      "count                441.000000           11.000000  \n",
      "mean                   0.990082         1977.363636  \n",
      "std                    0.059177           21.592928  \n",
      "min                    0.333300         1942.000000  \n",
      "25%                    1.000000         1964.000000  \n",
      "50%                    1.000000         1977.000000  \n",
      "75%                    1.000000         1997.000000  \n",
      "max                    1.000000         2006.000000  \n"
     ]
    }
   ],
   "source": [
    "#print(oscars_df.columns)\n",
    "#print(oscars_df.head())\n",
    "#print(oscars_df.tail())\n",
    "#print(oscars_df.sample())\n",
    "print(oscars_df.describe())\n",
    "#print(oscars_df.value_counts())"
   ]
  },
  {
   "cell_type": "markdown",
   "metadata": {},
   "source": [
    "## Observations\n",
    "* Each column represents these variables: _unit_id\t_golden\t_unit_state\t_trusted_judgments\t_last_judgment_at\tbirthplace\tbirthplace:confidence\tdate_of_birth\tdate_of_birth:confidence\trace_ethnicity\trace_ethnicity:confidence\treligion\treligion:confidence\tsexual_orientation\tsexual_orientation:confidence\tyear_of_award\tyear_of_award:confidence\taward\tbiourl\tbirthplace_gold\tdata_of_birth_gold\tmovie\tperson\trace_ethnicity_gold\treligion_gold\tsexual_orientation_gold\tyear_of_award_gold!\n",
    "* Each row represents an academy award winner\n",
    "* The Oscar awards won that are represented in this data set are the major categories: best director,best actor, best actress, best supporting actor, best supporting actress.\n",
    "\n",
    "### Some ranges of the data \n",
    "* years of award gold span from 1942-2006.\n",
    "* year of award range is 1927 - 2014\n",
    "* Ethnicities: Black, White, Hispanic, Middle Eastern, Multicultural"
   ]
  },
  {
   "cell_type": "code",
   "execution_count": 73,
   "metadata": {},
   "outputs": [
    {
     "name": "stdout",
     "output_type": "stream",
     "text": [
      "Number of Total Winners 441\n",
      "Number of Ethnically Diverse Winners 30\n",
      "79              Asian\n",
      "86              Asian\n",
      "109          Hispanic\n",
      "122             Black\n",
      "141       Multiracial\n",
      "143    Middle Eastern\n",
      "160             Black\n",
      "163             Black\n",
      "165             Black\n",
      "189          Hispanic\n",
      "193          Hispanic\n",
      "219             Black\n",
      "221             Asian\n",
      "226             Black\n",
      "233             Black\n",
      "237          Hispanic\n",
      "241             Black\n",
      "244          Hispanic\n",
      "325       Multiracial\n",
      "341             Black\n",
      "359             Asian\n",
      "363          Hispanic\n",
      "392             Black\n",
      "393          Hispanic\n",
      "408             Black\n",
      "410          Hispanic\n",
      "411             Black\n",
      "413             Black\n",
      "415             Black\n",
      "433             Black\n",
      "Name: race_ethnicity, dtype: object\n",
      "Diverse Percentage 6.802721088435375 %\n",
      "White Percentage 93.19727891156462 %\n"
     ]
    }
   ],
   "source": [
    "# The purpose of this cell is to find out how many winners are not white\n",
    "\n",
    "# How many total winners\n",
    "print('Number of Total Winners', oscars_df['race_ethnicity'].count())\n",
    "\n",
    "#How many winners that aren't white\n",
    "row_filter = oscars_df['race_ethnicity']=='White'\n",
    "oscars_df2 = oscars_df[-row_filter]\n",
    "print('Number of Ethnically Diverse Winners', oscars_df2['race_ethnicity'].count())\n",
    "\n",
    "print(oscars_df2['race_ethnicity'])\n",
    "\n",
    "#making percentages \n",
    "total = oscars_df['race_ethnicity'].count()\n",
    "diverse = oscars_df2['race_ethnicity'].count()\n",
    "white = total - diverse\n",
    "diverse_percentage = diverse / total * 100\n",
    "white_percentage = white / total * 100\n",
    "\n",
    "print ('Diverse Percentage', diverse_percentage, '%')\n",
    "print ('White Percentage', white_percentage, '%')"
   ]
  },
  {
   "cell_type": "markdown",
   "metadata": {},
   "source": [
    "# Observations - Race\n",
    "* By observing the data, from 1942-2014, there has only been 30 ethnically diverse winners while there are 411 white winners\n",
    "* The percentage of winners for the ethnically diverse is only 6.8% while the percentage of white wins is 93.2%"
   ]
  },
  {
   "cell_type": "code",
   "execution_count": 108,
   "metadata": {},
   "outputs": [
    {
     "name": "stdout",
     "output_type": "stream",
     "text": [
      "4\n"
     ]
    },
    {
     "data": {
      "image/png": "[encoded data removed]",
      "text/plain": [
       "<Figure size 432x288 with 1 Axes>"
      ]
     },
     "metadata": {
      "needs_background": "light"
     },
     "output_type": "display_data"
    }
   ],
   "source": [
    "# counter for different ethnicities\n",
    "bc = 0\n",
    "hc = 0\n",
    "mc = 0\n",
    "ac = 0\n",
    "\n",
    "# counting each race\n",
    "for i in oscars_df2['race_ethnicity']:\n",
    "    if i == 'Black':\n",
    "        bc += 1\n",
    "    if i == 'Hispanic':\n",
    "        hc += 1\n",
    "    if i == 'Multiracial':\n",
    "        mc += 1\n",
    "    if i == 'Asian':\n",
    "        ac += 1\n",
    "        \n",
    "\n",
    "#bar graph\n",
    "print(ac)\n",
    "df = pd.DataFrame({'Race':['Black', 'Hispanic', 'Multiracial', 'Asian'], 'val':[bc, hc, mc, ac]})\n",
    "ax = df.plot.bar(x='Race', y='val', rot=0)"
   ]
  },
  {
   "cell_type": "markdown",
   "metadata": {},
   "source": [
    "## Observations\n",
    "* The most amount of awards within the ethnically diverse demographic goes to Black people with 15, then Hispanic with 8, then Asian with 4, and finally multiracial with 2."
   ]
  },
  {
   "cell_type": "markdown",
   "metadata": {},
   "source": [
    "##  Names of ethnically diverse actors/actresses"
   ]
  },
  {
   "cell_type": "code",
   "execution_count": 75,
   "metadata": {},
   "outputs": [
    {
     "name": "stdout",
     "output_type": "stream",
     "text": [
      "79               Ang Lee\n",
      "86               Ang Lee\n",
      "109          Jose Ferrer\n",
      "122       Sidney Poitier\n",
      "141         Ben Kingsley\n",
      "143    F. Murray Abraham\n",
      "160    Denzel Washington\n",
      "163           Jamie Foxx\n",
      "165      Forest Whitaker\n",
      "189        Anthony Quinn\n",
      "193        Anthony Quinn\n",
      "219     Lou Gossett, Jr.\n",
      "221        Haing S. Ngor\n",
      "226    Denzel Washington\n",
      "233    Cuba Gooding, Jr.\n",
      "237     Benicio Del Toro\n",
      "241       Morgan Freeman\n",
      "244        Javier Bardem\n",
      "325          Halle Berry\n",
      "341      Hattie McDaniel\n",
      "359        Miyoshi Umeki\n",
      "363          Rita Moreno\n",
      "392      Whoopi Goldberg\n",
      "393       Mercedes Ruehl\n",
      "408      Jennifer Hudson\n",
      "410        Penelope Cruz\n",
      "411             Mo'Nique\n",
      "413      Octavia Spencer\n",
      "415       Lupita Nyong'o\n",
      "433             Mo'Nique\n",
      "Name: person, dtype: object\n"
     ]
    }
   ],
   "source": [
    "# Names of ethnically diverse actors/actresses\n",
    "print(oscars_df2['person'])"
   ]
  },
  {
   "cell_type": "markdown",
   "metadata": {},
   "source": [
    "## Observations\n",
    "* Even the 30 people that are ethnically diverse, the actual number is less because there are repeats in the data."
   ]
  },
  {
   "cell_type": "code",
   "execution_count": 76,
   "metadata": {},
   "outputs": [
    {
     "name": "stdout",
     "output_type": "stream",
     "text": [
      "                person  year_of_award\n",
      "341    Hattie McDaniel           1940\n",
      "109        Jose Ferrer           1951\n",
      "189      Anthony Quinn           1953\n",
      "193      Anthony Quinn           1957\n",
      "359      Miyoshi Umeki           1958\n",
      "363        Rita Moreno           1962\n",
      "122     Sidney Poitier           1964\n",
      "219   Lou Gossett, Jr.           1983\n",
      "141       Ben Kingsley           1983\n",
      "221      Haing S. Ngor           1985\n",
      "143  F. Murray Abraham           1985\n",
      "226  Denzel Washington           1990\n",
      "392    Whoopi Goldberg           1991\n",
      "393     Mercedes Ruehl           1992\n",
      "233  Cuba Gooding, Jr.           1997\n",
      "237   Benicio Del Toro           2001\n",
      "325        Halle Berry           2002\n",
      "160  Denzel Washington           2002\n",
      "241     Morgan Freeman           2005\n",
      "163         Jamie Foxx           2005\n",
      "79             Ang Lee           2006\n",
      "165    Forest Whitaker           2007\n",
      "408    Jennifer Hudson           2007\n",
      "244      Javier Bardem           2008\n",
      "410      Penelope Cruz           2009\n",
      "411           Mo'Nique           2010\n",
      "433           Mo'Nique           2010\n",
      "413    Octavia Spencer           2012\n",
      "86             Ang Lee           2013\n",
      "415     Lupita Nyong'o           2014\n"
     ]
    }
   ],
   "source": [
    "# Looking at diverse academy award winners in relation to year to see if there are more/less winners as of late\n",
    "actors_years_sort = oscars_df2[['person','year_of_award']].sort_values(by='year_of_award', ascending=True)\n",
    "print(actors_years_sort)"
   ]
  },
  {
   "cell_type": "code",
   "execution_count": 77,
   "metadata": {},
   "outputs": [
    {
     "name": "stdout",
     "output_type": "stream",
     "text": [
      "15\n",
      "15\n"
     ]
    }
   ],
   "source": [
    "#Diverse Awards won from 1940 - 1999\n",
    "old_count = 0\n",
    "#Diverse Awards won 2000 - 2014\n",
    "new_count = 0\n",
    "\n",
    "for i in oscars_df2['year_of_award']:\n",
    "    if i < 1999:\n",
    "        old_count += 1\n",
    "    else:\n",
    "        new_count += 1\n",
    "\n",
    "print (old_count)\n",
    "print (new_count)"
   ]
  },
  {
   "cell_type": "markdown",
   "metadata": {},
   "source": [
    "## Observations\n",
    "* Shows that in 60 years from 1940 - 1999 and in 15 years from 1999 -2014 there are the same amount of awards won\n",
    "* Thus, there there is an increase in diversity in award winners in recent years because there are more diverse award winners in a shorter span of time\n",
    "* However, there is still room for improvement of course"
   ]
  },
  {
   "cell_type": "code",
   "execution_count": 89,
   "metadata": {},
   "outputs": [
    {
     "data": {
      "text/plain": [
       "year_of_award\n",
       "1927    1\n",
       "1929    2\n",
       "1930    5\n",
       "1931    3\n",
       "1932    3\n",
       "       ..\n",
       "2010    5\n",
       "2011    5\n",
       "2012    5\n",
       "2013    5\n",
       "2014    4\n",
       "Length: 87, dtype: int64"
      ]
     },
     "execution_count": 89,
     "metadata": {},
     "output_type": "execute_result"
    }
   ],
   "source": [
    "oscars_df.groupby('year_of_award').size()"
   ]
  },
  {
   "cell_type": "code",
   "execution_count": 95,
   "metadata": {},
   "outputs": [],
   "source": [
    "oscars_df['decade']=oscars_df['year_of_award'].apply(lambda s: str(s)[:3]+'0s')"
   ]
  },
  {
   "cell_type": "code",
   "execution_count": 96,
   "metadata": {},
   "outputs": [
    {
     "data": {
      "text/plain": [
       "decade\n",
       "1920s     3\n",
       "1930s    36\n",
       "1940s    55\n",
       "1950s    52\n",
       "1960s    56\n",
       "1970s    54\n",
       "1980s    49\n",
       "1990s    54\n",
       "2000s    58\n",
       "2010s    24\n",
       "dtype: int64"
      ]
     },
     "execution_count": 96,
     "metadata": {},
     "output_type": "execute_result"
    }
   ],
   "source": [
    "oscars_df.groupby('decade').size()"
   ]
  },
  {
   "cell_type": "code",
   "execution_count": 100,
   "metadata": {},
   "outputs": [],
   "source": [
    "oscars_df['race_white?']=np.where(oscars_df['race_ethnicity']=='White', 'White', 'Non-white')"
   ]
  },
  {
   "cell_type": "code",
   "execution_count": 109,
   "metadata": {},
   "outputs": [
    {
     "name": "stdout",
     "output_type": "stream",
     "text": [
      "decade  race_white?\n",
      "1920s   White           3\n",
      "1930s   White          36\n",
      "1940s   Non-white       1\n",
      "        White          54\n",
      "1950s   Non-white       4\n",
      "        White          48\n",
      "1960s   Non-white       2\n",
      "        White          54\n",
      "1970s   White          54\n",
      "1980s   Non-white       4\n",
      "        White          45\n",
      "1990s   Non-white       4\n",
      "        White          50\n",
      "2000s   Non-white      10\n",
      "        White          48\n",
      "2010s   Non-white       5\n",
      "        White          19\n",
      "dtype: int64\n"
     ]
    }
   ],
   "source": [
    "race_by_decade=oscars_df.groupby(['decade','race_white?']).size()\n",
    "print(race_by_decade)"
   ]
  },
  {
   "cell_type": "code",
   "execution_count": 105,
   "metadata": {},
   "outputs": [
    {
     "data": {
      "text/plain": [
       "<matplotlib.axes._subplots.AxesSubplot at 0x7f76d4f93e80>"
      ]
     },
     "execution_count": 105,
     "metadata": {},
     "output_type": "execute_result"
    },
    {
     "data": {
      "image/png": "[encoded data removed]",
      "text/plain": [
       "<Figure size 432x288 with 1 Axes>"
      ]
     },
     "metadata": {
      "needs_background": "light"
     },
     "output_type": "display_data"
    }
   ],
   "source": [
    "race_by_decade.unstack().plot(kind='bar', stacked=True)"
   ]
  },
  {
   "cell_type": "code",
   "execution_count": null,
   "metadata": {},
   "outputs": [],
   "source": []
  }
 ],
 "metadata": {
  "kernelspec": {
   "display_name": "Python 3",
   "language": "python",
   "name": "python3"
  },
  "language_info": {
   "codemirror_mode": {
    "name": "ipython",
    "version": 3
   },
   "file_extension": ".py",
   "mimetype": "text/x-python",
   "name": "python",
   "nbconvert_exporter": "python",
   "pygments_lexer": "ipython3",
   "version": "3.7.3"
  }
 },
 "nbformat": 4,
 "nbformat_minor": 2
}
